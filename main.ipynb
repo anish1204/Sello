{
 "cells": [
  {
   "cell_type": "code",
   "execution_count": null,
   "metadata": {},
   "outputs": [
    {
     "ename": "",
     "evalue": "",
     "output_type": "error",
     "traceback": [
      "\u001b[1;31mRunning cells with '.venv (Python 3.13.0)' requires the ipykernel package.\n",
      "\u001b[1;31mRun the following command to install 'ipykernel' into the Python environment. \n",
      "\u001b[1;31mCommand: 'c:/Users/Anish/Desktop/assignment/sales/.venv/Scripts/python.exe -m pip install ipykernel -U --force-reinstall'"
     ]
    }
   ],
   "source": [
    "import pandas as pd\n",
    "\n",
    "# Load the dataset to examine its structure\n",
    "file_path = 'Leads.csv'\n",
    "data = pd.read_csv(file_path)\n"
   ]
  },
  {
   "cell_type": "code",
   "execution_count": null,
   "metadata": {},
   "outputs": [
    {
     "ename": "",
     "evalue": "",
     "output_type": "error",
     "traceback": [
      "\u001b[1;31mRunning cells with '.venv (Python 3.13.0)' requires the ipykernel package.\n",
      "\u001b[1;31mRun the following command to install 'ipykernel' into the Python environment. \n",
      "\u001b[1;31mCommand: 'c:/Users/Anish/Desktop/assignment/sales/.venv/Scripts/python.exe -m pip install ipykernel -U --force-reinstall'"
     ]
    }
   ],
   "source": [
    "from sklearn.preprocessing import OneHotEncoder, LabelEncoder\n",
    "from sklearn.impute import SimpleImputer\n",
    "\n",
    "# Exclude irrelevant columns\n",
    "irrelevant_cols = ['Prospect ID', 'Lead Number']\n",
    "data_cleaned = data.drop(columns=irrelevant_cols)\n",
    "\n",
    "# Separate numerical and categorical columns\n",
    "num_cols = data_cleaned.select_dtypes(include=['float64', 'int64']).columns\n",
    "cat_cols = data_cleaned.select_dtypes(include=['object']).columns\n",
    "\n",
    "# Handle missing values\n",
    "# Numerical columns: fill with median\n",
    "num_imputer = SimpleImputer(strategy='median')\n",
    "data_cleaned[num_cols] = num_imputer.fit_transform(data_cleaned[num_cols])\n",
    "\n",
    "# Categorical columns: fill with \"Unknown\"\n",
    "cat_imputer = SimpleImputer(strategy='constant', fill_value='Unknown')\n",
    "data_cleaned[cat_cols] = cat_imputer.fit_transform(data_cleaned[cat_cols])\n",
    "\n",
    "# Encode categorical variables\n",
    "# Binary encoding for \"Yes/No\" columns\n",
    "binary_cols = [col for col in cat_cols if set(data_cleaned[col].unique()) == {'Yes', 'No'}]\n",
    "for col in binary_cols:\n",
    "    data_cleaned[col] = data_cleaned[col].map({'Yes': 1, 'No': 0})\n",
    "\n",
    "# One-hot encode remaining categorical variables\n",
    "non_binary_cats = list(set(cat_cols) - set(binary_cols))\n",
    "data_encoded = pd.get_dummies(data_cleaned, columns=non_binary_cats, drop_first=True)\n",
    "\n",
    "# Display the processed data structure\n",
    "data_encoded.info(), data_encoded.head()\n"
   ]
  },
  {
   "cell_type": "code",
   "execution_count": null,
   "metadata": {},
   "outputs": [
    {
     "ename": "",
     "evalue": "",
     "output_type": "error",
     "traceback": [
      "\u001b[1;31mRunning cells with '.venv (Python 3.13.0)' requires the ipykernel package.\n",
      "\u001b[1;31mRun the following command to install 'ipykernel' into the Python environment. \n",
      "\u001b[1;31mCommand: 'c:/Users/Anish/Desktop/assignment/sales/.venv/Scripts/python.exe -m pip install ipykernel -U --force-reinstall'"
     ]
    }
   ],
   "source": [
    "new_data = data_encoded[\n",
    "    [\n",
    "        'Do Not Email',\n",
    "        'Do Not Call',\n",
    "        'TotalVisits',\n",
    "        'Total Time Spent on Website',\n",
    "        'Page Views Per Visit',\n",
    "        'Converted',\n",
    "\n",
    "    ]\n",
    "]"
   ]
  },
  {
   "cell_type": "code",
   "execution_count": null,
   "metadata": {},
   "outputs": [],
   "source": []
  }
 ],
 "metadata": {
  "kernelspec": {
   "display_name": ".venv",
   "language": "python",
   "name": "python3"
  },
  "language_info": {
   "name": "python",
   "version": "3.13.0"
  }
 },
 "nbformat": 4,
 "nbformat_minor": 2
}
